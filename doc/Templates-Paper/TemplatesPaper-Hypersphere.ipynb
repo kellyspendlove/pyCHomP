{
 "cells": [
  {
   "cell_type": "code",
   "execution_count": 1,
   "metadata": {},
   "outputs": [],
   "source": [
    "from pychomp import *"
   ]
  },
  {
   "cell_type": "code",
   "execution_count": 2,
   "metadata": {},
   "outputs": [],
   "source": [
    "#d - ambient dimension of cubical complex\n",
    "d = 3\n",
    "#D - dimension of hyperspheresphere S^D\n",
    "D = d-1\n",
    "#n is width (add one to account for fringe) ._._\n",
    "n = 2"
   ]
  },
  {
   "cell_type": "markdown",
   "metadata": {},
   "source": [
    "Construct cubical complex $\\mathcal{C}(1;d)$"
   ]
  },
  {
   "cell_type": "code",
   "execution_count": 3,
   "metadata": {},
   "outputs": [],
   "source": [
    "boxes = []\n",
    "for i in range(d):\n",
    "    boxes . append ( n )"
   ]
  },
  {
   "cell_type": "code",
   "execution_count": 4,
   "metadata": {},
   "outputs": [],
   "source": [
    "C = CubicalComplex(boxes)"
   ]
  },
  {
   "cell_type": "markdown",
   "metadata": {},
   "source": [
    "Get index of cube $\\xi$ with $\\dim\\xi = d$"
   ]
  },
  {
   "cell_type": "code",
   "execution_count": 5,
   "metadata": {},
   "outputs": [],
   "source": [
    "ind = (n**d)*((1<< d)-1)"
   ]
  },
  {
   "cell_type": "markdown",
   "metadata": {},
   "source": [
    "Set up grading $\\nu\\colon \\mathcal{C}(1;d) \\to \\{0,1\\}$, the fiber $\\nu^{-1}(0)=\\mathcal{S}^D$"
   ]
  },
  {
   "cell_type": "code",
   "execution_count": 6,
   "metadata": {},
   "outputs": [],
   "source": [
    "def hypercube_grading ( v ):\n",
    "    if v == ind:\n",
    "        return 1\n",
    "    return 0"
   ]
  },
  {
   "cell_type": "markdown",
   "metadata": {},
   "source": [
    "Set up graded complex $(\\mathcal{C}(1;d),\\nu)$"
   ]
  },
  {
   "cell_type": "code",
   "execution_count": 7,
   "metadata": {},
   "outputs": [],
   "source": [
    "gc = GradedComplex(C, hypercube_grading)"
   ]
  },
  {
   "cell_type": "markdown",
   "metadata": {},
   "source": [
    "Compute Conley complex and connection matrix"
   ]
  },
  {
   "cell_type": "code",
   "execution_count": 8,
   "metadata": {},
   "outputs": [
    {
     "name": "stdout",
     "output_type": "stream",
     "text": [
      "CPU times: user 171 µs, sys: 70 µs, total: 241 µs\n",
      "Wall time: 245 µs\n"
     ]
    }
   ],
   "source": [
    "%%time\n",
    "cm = ConnectionMatrix(gc)"
   ]
  },
  {
   "cell_type": "markdown",
   "metadata": {},
   "source": [
    "Print Betti numbers of fibers of $\\nu^{-1}(x)$ for $x\\in \\{0,1\\}$"
   ]
  },
  {
   "cell_type": "code",
   "execution_count": 12,
   "metadata": {},
   "outputs": [
    {
     "name": "stdout",
     "output_type": "stream",
     "text": [
      "{1: [0, 0, 0, 1], 0: [1, 0, 1, 0]}\n"
     ]
    }
   ],
   "source": [
    "print(str(cm.count()))"
   ]
  },
  {
   "cell_type": "code",
   "execution_count": 10,
   "metadata": {},
   "outputs": [
    {
     "name": "stdout",
     "output_type": "stream",
     "text": [
      "50.2 µs ± 690 ns per loop (mean ± std. dev. of 7 runs, 10000 loops each)\n"
     ]
    }
   ],
   "source": [
    "timing = %timeit -o ConnectionMatrix(gc)"
   ]
  },
  {
   "cell_type": "markdown",
   "metadata": {},
   "source": [
    "[1] Harker, S., Mischaikow, K. & Spendlove, K. Morse theoretic templates for high dimensional homology computation.  arXiv  preprint arXiv:2105.09870, 2021. https://arxiv.org/abs/2105.09870.\n",
    "\n",
    "[2] Harker, S., Mischaikow, K. & Spendlove, K. A computational framework for connection matrix theory. J Appl. and Comput. Topology (2021). https://doi.org/10.1007/s41468-021-00073-3"
   ]
  },
  {
   "cell_type": "code",
   "execution_count": null,
   "metadata": {},
   "outputs": [],
   "source": []
  }
 ],
 "metadata": {
  "kernelspec": {
   "display_name": "Python 3",
   "language": "python",
   "name": "python3"
  },
  "language_info": {
   "codemirror_mode": {
    "name": "ipython",
    "version": 3
   },
   "file_extension": ".py",
   "mimetype": "text/x-python",
   "name": "python",
   "nbconvert_exporter": "python",
   "pygments_lexer": "ipython3",
   "version": "3.7.6"
  }
 },
 "nbformat": 4,
 "nbformat_minor": 1
}
