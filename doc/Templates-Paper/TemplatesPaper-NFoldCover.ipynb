{
 "cells": [
  {
   "cell_type": "code",
   "execution_count": 1,
   "metadata": {},
   "outputs": [],
   "source": [
    "from pychomp import *\n",
    "from pychomp.Braids import *\n",
    "\n",
    "%load_ext memory_profiler"
   ]
  },
  {
   "cell_type": "code",
   "execution_count": 2,
   "metadata": {},
   "outputs": [],
   "source": [
    "#braid u\n",
    "u = BraidDiagram([[1,3,1],\n",
    "                  [2,1,2],\n",
    "                  [3,4,3],\n",
    "                  [4,2,4]])\n",
    "#2-fold cover of u\n",
    "u2 = BraidDiagram([[1,3,1,3,1],\n",
    "                   [2,1,2,1,2],\n",
    "                   [3,4,3,4,3],\n",
    "                   [4,2,4,2,4]])\n",
    "#3-fold cover of u\n",
    "u3 = BraidDiagram([[1,3,1,3,1,3,1],\n",
    "                   [2,1,2,1,2,1,2],\n",
    "                   [3,4,3,4,3,4,3],\n",
    "                   [4,2,4,2,4,2,4]])\n",
    "#4-fold cover of u\n",
    "u4 = BraidDiagram([[1,3,1,3,1,3,1,3,1],\n",
    "                   [2,1,2,1,2,1,2,1,2],\n",
    "                   [3,4,3,4,3,4,3,4,3],\n",
    "                   [4,2,4,2,4,2,4,2,4]])\n",
    "#5-fold cover of u\n",
    "u5 = BraidDiagram([[1,3,1,3,1,3,1,3,1,3,1],\n",
    "                   [2,1,2,1,2,1,2,1,2,1,2],\n",
    "                   [3,4,3,4,3,4,3,4,3,4,3],\n",
    "                   [4,2,4,2,4,2,4,2,4,2,4]])"
   ]
  },
  {
   "cell_type": "code",
   "execution_count": 3,
   "metadata": {},
   "outputs": [
    {
     "data": {
      "image/png": "[encoded data removed]",
      "text/plain": [
       "<Figure size 432x288 with 1 Axes>"
      ]
     },
     "metadata": {
      "needs_background": "light"
     },
     "output_type": "display_data"
    },
    {
     "data": {
      "text/plain": [
       "Braid Diagram"
      ]
     },
     "execution_count": 3,
     "metadata": {},
     "output_type": "execute_result"
    }
   ],
   "source": [
    "u"
   ]
  },
  {
   "cell_type": "code",
   "execution_count": 4,
   "metadata": {},
   "outputs": [
    {
     "name": "stdout",
     "output_type": "stream",
     "text": [
      "peak memory: 72.38 MiB, increment: -0.30 MiB\n"
     ]
    }
   ],
   "source": [
    "%memit\n",
    "braid_complex, braid_graph = BraidComplex(u)"
   ]
  },
  {
   "cell_type": "code",
   "execution_count": 5,
   "metadata": {},
   "outputs": [
    {
     "name": "stdout",
     "output_type": "stream",
     "text": [
      "peak memory: 72.38 MiB, increment: 0.02 MiB\n"
     ]
    }
   ],
   "source": [
    "%memit\n",
    "(poset, graded_complex) = FlowGradedComplex(braid_complex, braid_graph)"
   ]
  },
  {
   "cell_type": "markdown",
   "metadata": {},
   "source": [
    "Compute Conley complex and connection matrix"
   ]
  },
  {
   "cell_type": "code",
   "execution_count": 6,
   "metadata": {},
   "outputs": [
    {
     "name": "stdout",
     "output_type": "stream",
     "text": [
      "CPU times: user 313 µs, sys: 51 µs, total: 364 µs\n",
      "Wall time: 369 µs\n"
     ]
    }
   ],
   "source": [
    "%%time\n",
    "cm = ConnectionMatrix(graded_complex)"
   ]
  },
  {
   "cell_type": "markdown",
   "metadata": {},
   "source": [
    "Timing for initial Morse complex"
   ]
  },
  {
   "cell_type": "code",
   "execution_count": 7,
   "metadata": {},
   "outputs": [
    {
     "name": "stdout",
     "output_type": "stream",
     "text": [
      "154 µs ± 4.54 µs per loop (mean ± std. dev. of 7 runs, 10000 loops each)\n"
     ]
    }
   ],
   "source": [
    "timingMGC = %timeit -o MorseGradedComplex(graded_complex)"
   ]
  },
  {
   "cell_type": "markdown",
   "metadata": {},
   "source": [
    "Timing for Conley complex/connection matrix"
   ]
  },
  {
   "cell_type": "code",
   "execution_count": 8,
   "metadata": {},
   "outputs": [
    {
     "name": "stdout",
     "output_type": "stream",
     "text": [
      "209 µs ± 6.79 µs per loop (mean ± std. dev. of 7 runs, 1000 loops each)\n"
     ]
    }
   ],
   "source": [
    "timingCM = %timeit -o ConnectionMatrix(graded_complex)"
   ]
  },
  {
   "cell_type": "markdown",
   "metadata": {},
   "source": [
    "Visualize Conley complex through *Conley-Morse graph* (see [2]):\n",
    " - Each node of poset with nontrivial Betti number of fiber is annotated with the Betti numbers"
   ]
  },
  {
   "cell_type": "code",
   "execution_count": 9,
   "metadata": {},
   "outputs": [
    {
     "data": {
      "image/svg+xml": [
       "<?xml version=\"1.0\" encoding=\"UTF-8\" standalone=\"no\"?>\n",
       "<!DOCTYPE svg PUBLIC \"-//W3C//DTD SVG 1.1//EN\"\n",
       " \"http://www.w3.org/Graphics/SVG/1.1/DTD/svg11.dtd\">\n",
       "<!-- Generated by graphviz version 2.43.0 (0)\n",
       " -->\n",
       "<!-- Title: %3 Pages: 1 -->\n",
       "<svg width=\"224pt\" height=\"116pt\"\n",
       " viewBox=\"0.00 0.00 223.81 116.00\" xmlns=\"http://www.w3.org/2000/svg\" xmlns:xlink=\"http://www.w3.org/1999/xlink\">\n",
       "<g id=\"graph0\" class=\"graph\" transform=\"scale(1 1) rotate(0) translate(4 112)\">\n",
       "<title>%3</title>\n",
       "<polygon fill=\"white\" stroke=\"transparent\" points=\"-4,4 -4,-112 219.81,-112 219.81,4 -4,4\"/>\n",
       "<!-- 0 -->\n",
       "<g id=\"node1\" class=\"node\">\n",
       "<title>0</title>\n",
       "<ellipse fill=\"cyan\" stroke=\"black\" cx=\"49.41\" cy=\"-18\" rx=\"49.31\" ry=\"18\"/>\n",
       "<text text-anchor=\"middle\" x=\"49.41\" y=\"-13.8\" font-family=\"Times,serif\" font-size=\"14.00\">0 : (1, 0, 0)</text>\n",
       "</g>\n",
       "<!-- 1 -->\n",
       "<g id=\"node2\" class=\"node\">\n",
       "<title>1</title>\n",
       "<ellipse fill=\"cyan\" stroke=\"black\" cx=\"166.41\" cy=\"-18\" rx=\"49.31\" ry=\"18\"/>\n",
       "<text text-anchor=\"middle\" x=\"166.41\" y=\"-13.8\" font-family=\"Times,serif\" font-size=\"14.00\">3 : (1, 0, 0)</text>\n",
       "</g>\n",
       "<!-- 2 -->\n",
       "<g id=\"node3\" class=\"node\">\n",
       "<title>2</title>\n",
       "<ellipse fill=\"cyan\" stroke=\"black\" cx=\"107.41\" cy=\"-90\" rx=\"49.31\" ry=\"18\"/>\n",
       "<text text-anchor=\"middle\" x=\"107.41\" y=\"-85.8\" font-family=\"Times,serif\" font-size=\"14.00\">6 : (0, 1, 0)</text>\n",
       "</g>\n",
       "<!-- 2&#45;&gt;0 -->\n",
       "<g id=\"edge1\" class=\"edge\">\n",
       "<title>2&#45;&gt;0</title>\n",
       "<path fill=\"none\" stroke=\"black\" d=\"M93.66,-72.41C86.44,-63.69 77.45,-52.85 69.46,-43.21\"/>\n",
       "<polygon fill=\"black\" stroke=\"black\" points=\"72.13,-40.94 63.05,-35.47 66.74,-45.4 72.13,-40.94\"/>\n",
       "</g>\n",
       "<!-- 2&#45;&gt;1 -->\n",
       "<g id=\"edge2\" class=\"edge\">\n",
       "<title>2&#45;&gt;1</title>\n",
       "<path fill=\"none\" stroke=\"black\" d=\"M121.39,-72.41C128.74,-63.69 137.88,-52.85 146,-43.21\"/>\n",
       "<polygon fill=\"black\" stroke=\"black\" points=\"148.76,-45.37 152.52,-35.47 143.4,-40.86 148.76,-45.37\"/>\n",
       "</g>\n",
       "</g>\n",
       "</svg>\n"
      ],
      "text/plain": [
       "<pychomp.DrawGradedComplex.DrawGradedComplex at 0x7fc5ab26e410>"
      ]
     },
     "execution_count": 9,
     "metadata": {},
     "output_type": "execute_result"
    }
   ],
   "source": [
    "reduced_poset = Poset(InducedSubgraph(TransitiveClosure(poset), lambda v : v in cm.count()))\n",
    "DrawGradedComplex(cm, reduced_poset)"
   ]
  },
  {
   "cell_type": "markdown",
   "metadata": {},
   "source": [
    "[1] Harker, S., Mischaikow, K. & Spendlove, K. Morse theoretic templates for high dimensional homology computation.  arXiv  preprint arXiv:2105.09870, 2021. https://arxiv.org/abs/2105.09870.\n",
    "\n",
    "[2] Harker, S., Mischaikow, K. & Spendlove, K. A computational framework for connection matrix theory. J Appl. and Comput. Topology (2021). https://doi.org/10.1007/s41468-021-00073-3"
   ]
  },
  {
   "cell_type": "code",
   "execution_count": null,
   "metadata": {},
   "outputs": [],
   "source": []
  }
 ],
 "metadata": {
  "kernelspec": {
   "display_name": "Python 3",
   "language": "python",
   "name": "python3"
  },
  "language_info": {
   "codemirror_mode": {
    "name": "ipython",
    "version": 3
   },
   "file_extension": ".py",
   "mimetype": "text/x-python",
   "name": "python",
   "nbconvert_exporter": "python",
   "pygments_lexer": "ipython3",
   "version": "3.7.6"
  }
 },
 "nbformat": 4,
 "nbformat_minor": 1
}
